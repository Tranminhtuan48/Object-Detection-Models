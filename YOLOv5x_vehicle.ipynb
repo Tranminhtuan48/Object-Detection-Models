{
  "nbformat": 4,
  "nbformat_minor": 0,
  "metadata": {
    "colab": {
      "provenance": [],
      "gpuType": "T4",
      "collapsed_sections": [
        "h8yR-yc8L587",
        "JEZrdyrIMH9j",
        "JncvXG6tW11O",
        "YIB903jkPQzH",
        "wBGgH8CjYNuL"
      ],
      "authorship_tag": "ABX9TyMo+Bfi0XDEeRRAlfrFjhsA",
      "include_colab_link": true
    },
    "kernelspec": {
      "name": "python3",
      "display_name": "Python 3"
    },
    "language_info": {
      "name": "python"
    },
    "accelerator": "GPU"
  },
  "cells": [
    {
      "cell_type": "markdown",
      "metadata": {
        "id": "view-in-github",
        "colab_type": "text"
      },
      "source": [
        "<a href=\"https://colab.research.google.com/github/Tranminhtuan48/Object-Detection-Models/blob/main/YOLOv5x_vehicle.ipynb\" target=\"_parent\"><img src=\"https://colab.research.google.com/assets/colab-badge.svg\" alt=\"Open In Colab\"/></a>"
      ]
    },
    {
      "cell_type": "markdown",
      "source": [
        "# Install Prerequisites & Setup"
      ],
      "metadata": {
        "id": "h8yR-yc8L587"
      }
    },
    {
      "cell_type": "code",
      "source": [
        "from google.colab import drive\n",
        "drive.mount('/content/drive/', force_remount=True)"
      ],
      "metadata": {
        "colab": {
          "base_uri": "https://localhost:8080/"
        },
        "id": "I52IY9dEIDNA",
        "outputId": "e0ef35b8-d39a-414c-f08c-97f5f3743aa7"
      },
      "execution_count": null,
      "outputs": [
        {
          "output_type": "stream",
          "name": "stdout",
          "text": [
            "Mounted at /content/drive/\n"
          ]
        }
      ]
    },
    {
      "cell_type": "code",
      "source": [
        "%cd /content/drive/MyDrive\n",
        "!git clone https://github.com/ultralytics/yolov5"
      ],
      "metadata": {
        "colab": {
          "base_uri": "https://localhost:8080/"
        },
        "id": "qo0nP6imYIhH",
        "outputId": "704408db-c547-454e-9aec-e0664d26d575"
      },
      "execution_count": null,
      "outputs": [
        {
          "output_type": "stream",
          "name": "stdout",
          "text": [
            "[Errno 2] No such file or directory: '/content/drive/MyDrive'\n",
            "/content\n",
            "Cloning into 'yolov5'...\n",
            "remote: Enumerating objects: 16748, done.\u001b[K\n",
            "remote: Counting objects: 100% (289/289), done.\u001b[K\n",
            "remote: Compressing objects: 100% (211/211), done.\u001b[K\n",
            "remote: Total 16748 (delta 156), reused 159 (delta 78), pack-reused 16459\u001b[K\n",
            "Receiving objects: 100% (16748/16748), 15.44 MiB | 8.67 MiB/s, done.\n",
            "Resolving deltas: 100% (11455/11455), done.\n"
          ]
        }
      ]
    },
    {
      "cell_type": "code",
      "source": [
        "!pip uninstall -y requests\n",
        "!pip install requests==2.31.0"
      ],
      "metadata": {
        "colab": {
          "base_uri": "https://localhost:8080/"
        },
        "collapsed": true,
        "id": "kLkubjvxakt7",
        "outputId": "14f086be-7458-460f-99bb-6d8fe5fcefcf"
      },
      "execution_count": null,
      "outputs": [
        {
          "output_type": "stream",
          "name": "stdout",
          "text": [
            "Found existing installation: requests 2.31.0\n",
            "Uninstalling requests-2.31.0:\n",
            "  Successfully uninstalled requests-2.31.0\n",
            "Collecting requests==2.31.0\n",
            "  Using cached requests-2.31.0-py3-none-any.whl (62 kB)\n",
            "Requirement already satisfied: charset-normalizer<4,>=2 in /usr/local/lib/python3.10/dist-packages (from requests==2.31.0) (3.3.2)\n",
            "Requirement already satisfied: idna<4,>=2.5 in /usr/local/lib/python3.10/dist-packages (from requests==2.31.0) (3.7)\n",
            "Requirement already satisfied: urllib3<3,>=1.21.1 in /usr/local/lib/python3.10/dist-packages (from requests==2.31.0) (2.0.7)\n",
            "Requirement already satisfied: certifi>=2017.4.17 in /usr/local/lib/python3.10/dist-packages (from requests==2.31.0) (2024.6.2)\n",
            "Installing collected packages: requests\n",
            "Successfully installed requests-2.31.0\n"
          ]
        }
      ]
    },
    {
      "cell_type": "code",
      "source": [
        "!pip install --upgrade google-colab"
      ],
      "metadata": {
        "colab": {
          "base_uri": "https://localhost:8080/"
        },
        "collapsed": true,
        "id": "P91JK8Sndgx5",
        "outputId": "912b661e-3ce3-4d06-e28d-7def57dbd5de"
      },
      "execution_count": null,
      "outputs": [
        {
          "output_type": "stream",
          "name": "stdout",
          "text": [
            "Requirement already satisfied: google-colab in /usr/local/lib/python3.10/dist-packages (1.0.0)\n",
            "Requirement already satisfied: google-auth==2.27.0 in /usr/local/lib/python3.10/dist-packages (from google-colab) (2.27.0)\n",
            "Requirement already satisfied: ipykernel==5.5.6 in /usr/local/lib/python3.10/dist-packages (from google-colab) (5.5.6)\n",
            "Requirement already satisfied: ipyparallel==8.8.0 in /usr/local/lib/python3.10/dist-packages (from google-colab) (8.8.0)\n",
            "Requirement already satisfied: ipython==7.34.0 in /usr/local/lib/python3.10/dist-packages (from google-colab) (7.34.0)\n",
            "Requirement already satisfied: notebook==6.5.5 in /usr/local/lib/python3.10/dist-packages (from google-colab) (6.5.5)\n",
            "Requirement already satisfied: pandas==2.0.3 in /usr/local/lib/python3.10/dist-packages (from google-colab) (2.0.3)\n",
            "Requirement already satisfied: portpicker==1.5.2 in /usr/local/lib/python3.10/dist-packages (from google-colab) (1.5.2)\n",
            "Requirement already satisfied: requests==2.31.0 in /usr/local/lib/python3.10/dist-packages (from google-colab) (2.31.0)\n",
            "Requirement already satisfied: tornado==6.3.3 in /usr/local/lib/python3.10/dist-packages (from google-colab) (6.3.3)\n",
            "Requirement already satisfied: cachetools<6.0,>=2.0.0 in /usr/local/lib/python3.10/dist-packages (from google-auth==2.27.0->google-colab) (5.3.3)\n",
            "Requirement already satisfied: pyasn1-modules>=0.2.1 in /usr/local/lib/python3.10/dist-packages (from google-auth==2.27.0->google-colab) (0.4.0)\n",
            "Requirement already satisfied: rsa<5,>=3.1.4 in /usr/local/lib/python3.10/dist-packages (from google-auth==2.27.0->google-colab) (4.9)\n",
            "Requirement already satisfied: ipython-genutils in /usr/local/lib/python3.10/dist-packages (from ipykernel==5.5.6->google-colab) (0.2.0)\n",
            "Requirement already satisfied: traitlets>=4.1.0 in /usr/local/lib/python3.10/dist-packages (from ipykernel==5.5.6->google-colab) (5.7.1)\n",
            "Requirement already satisfied: jupyter-client in /usr/local/lib/python3.10/dist-packages (from ipykernel==5.5.6->google-colab) (6.1.12)\n",
            "Requirement already satisfied: decorator in /usr/local/lib/python3.10/dist-packages (from ipyparallel==8.8.0->google-colab) (4.4.2)\n",
            "Requirement already satisfied: entrypoints in /usr/local/lib/python3.10/dist-packages (from ipyparallel==8.8.0->google-colab) (0.4)\n",
            "Requirement already satisfied: psutil in /usr/local/lib/python3.10/dist-packages (from ipyparallel==8.8.0->google-colab) (5.9.5)\n",
            "Requirement already satisfied: python-dateutil>=2.1 in /usr/local/lib/python3.10/dist-packages (from ipyparallel==8.8.0->google-colab) (2.8.2)\n",
            "Requirement already satisfied: pyzmq>=18 in /usr/local/lib/python3.10/dist-packages (from ipyparallel==8.8.0->google-colab) (24.0.1)\n",
            "Requirement already satisfied: tqdm in /usr/local/lib/python3.10/dist-packages (from ipyparallel==8.8.0->google-colab) (4.66.4)\n",
            "Requirement already satisfied: setuptools>=18.5 in /usr/local/lib/python3.10/dist-packages (from ipython==7.34.0->google-colab) (67.7.2)\n",
            "Collecting jedi>=0.16 (from ipython==7.34.0->google-colab)\n",
            "  Downloading jedi-0.19.1-py2.py3-none-any.whl (1.6 MB)\n",
            "\u001b[2K     \u001b[90m━━━━━━━━━━━━━━━━━━━━━━━━━━━━━━━━━━━━━━━━\u001b[0m \u001b[32m1.6/1.6 MB\u001b[0m \u001b[31m21.1 MB/s\u001b[0m eta \u001b[36m0:00:00\u001b[0m\n",
            "\u001b[?25hRequirement already satisfied: pickleshare in /usr/local/lib/python3.10/dist-packages (from ipython==7.34.0->google-colab) (0.7.5)\n",
            "Requirement already satisfied: prompt-toolkit!=3.0.0,!=3.0.1,<3.1.0,>=2.0.0 in /usr/local/lib/python3.10/dist-packages (from ipython==7.34.0->google-colab) (3.0.47)\n",
            "Requirement already satisfied: pygments in /usr/local/lib/python3.10/dist-packages (from ipython==7.34.0->google-colab) (2.16.1)\n",
            "Requirement already satisfied: backcall in /usr/local/lib/python3.10/dist-packages (from ipython==7.34.0->google-colab) (0.2.0)\n",
            "Requirement already satisfied: matplotlib-inline in /usr/local/lib/python3.10/dist-packages (from ipython==7.34.0->google-colab) (0.1.7)\n",
            "Requirement already satisfied: pexpect>4.3 in /usr/local/lib/python3.10/dist-packages (from ipython==7.34.0->google-colab) (4.9.0)\n",
            "Requirement already satisfied: jinja2 in /usr/local/lib/python3.10/dist-packages (from notebook==6.5.5->google-colab) (3.1.4)\n",
            "Requirement already satisfied: argon2-cffi in /usr/local/lib/python3.10/dist-packages (from notebook==6.5.5->google-colab) (23.1.0)\n",
            "Requirement already satisfied: jupyter-core>=4.6.1 in /usr/local/lib/python3.10/dist-packages (from notebook==6.5.5->google-colab) (5.7.2)\n",
            "Requirement already satisfied: nbformat in /usr/local/lib/python3.10/dist-packages (from notebook==6.5.5->google-colab) (5.10.4)\n",
            "Requirement already satisfied: nbconvert>=5 in /usr/local/lib/python3.10/dist-packages (from notebook==6.5.5->google-colab) (6.5.4)\n",
            "Requirement already satisfied: nest-asyncio>=1.5 in /usr/local/lib/python3.10/dist-packages (from notebook==6.5.5->google-colab) (1.6.0)\n",
            "Requirement already satisfied: Send2Trash>=1.8.0 in /usr/local/lib/python3.10/dist-packages (from notebook==6.5.5->google-colab) (1.8.3)\n",
            "Requirement already satisfied: terminado>=0.8.3 in /usr/local/lib/python3.10/dist-packages (from notebook==6.5.5->google-colab) (0.18.1)\n",
            "Requirement already satisfied: prometheus-client in /usr/local/lib/python3.10/dist-packages (from notebook==6.5.5->google-colab) (0.20.0)\n",
            "Requirement already satisfied: nbclassic>=0.4.7 in /usr/local/lib/python3.10/dist-packages (from notebook==6.5.5->google-colab) (1.1.0)\n",
            "Requirement already satisfied: pytz>=2020.1 in /usr/local/lib/python3.10/dist-packages (from pandas==2.0.3->google-colab) (2023.4)\n",
            "Requirement already satisfied: tzdata>=2022.1 in /usr/local/lib/python3.10/dist-packages (from pandas==2.0.3->google-colab) (2024.1)\n",
            "Requirement already satisfied: numpy>=1.21.0 in /usr/local/lib/python3.10/dist-packages (from pandas==2.0.3->google-colab) (1.25.2)\n",
            "Requirement already satisfied: charset-normalizer<4,>=2 in /usr/local/lib/python3.10/dist-packages (from requests==2.31.0->google-colab) (3.3.2)\n",
            "Requirement already satisfied: idna<4,>=2.5 in /usr/local/lib/python3.10/dist-packages (from requests==2.31.0->google-colab) (3.7)\n",
            "Requirement already satisfied: urllib3<3,>=1.21.1 in /usr/local/lib/python3.10/dist-packages (from requests==2.31.0->google-colab) (2.0.7)\n",
            "Requirement already satisfied: certifi>=2017.4.17 in /usr/local/lib/python3.10/dist-packages (from requests==2.31.0->google-colab) (2024.6.2)\n",
            "Requirement already satisfied: parso<0.9.0,>=0.8.3 in /usr/local/lib/python3.10/dist-packages (from jedi>=0.16->ipython==7.34.0->google-colab) (0.8.4)\n",
            "Requirement already satisfied: platformdirs>=2.5 in /usr/local/lib/python3.10/dist-packages (from jupyter-core>=4.6.1->notebook==6.5.5->google-colab) (4.2.2)\n",
            "Requirement already satisfied: notebook-shim>=0.2.3 in /usr/local/lib/python3.10/dist-packages (from nbclassic>=0.4.7->notebook==6.5.5->google-colab) (0.2.4)\n",
            "Requirement already satisfied: lxml in /usr/local/lib/python3.10/dist-packages (from nbconvert>=5->notebook==6.5.5->google-colab) (4.9.4)\n",
            "Requirement already satisfied: beautifulsoup4 in /usr/local/lib/python3.10/dist-packages (from nbconvert>=5->notebook==6.5.5->google-colab) (4.12.3)\n",
            "Requirement already satisfied: bleach in /usr/local/lib/python3.10/dist-packages (from nbconvert>=5->notebook==6.5.5->google-colab) (6.1.0)\n",
            "Requirement already satisfied: defusedxml in /usr/local/lib/python3.10/dist-packages (from nbconvert>=5->notebook==6.5.5->google-colab) (0.7.1)\n",
            "Requirement already satisfied: jupyterlab-pygments in /usr/local/lib/python3.10/dist-packages (from nbconvert>=5->notebook==6.5.5->google-colab) (0.3.0)\n",
            "Requirement already satisfied: MarkupSafe>=2.0 in /usr/local/lib/python3.10/dist-packages (from nbconvert>=5->notebook==6.5.5->google-colab) (2.1.5)\n",
            "Requirement already satisfied: mistune<2,>=0.8.1 in /usr/local/lib/python3.10/dist-packages (from nbconvert>=5->notebook==6.5.5->google-colab) (0.8.4)\n",
            "Requirement already satisfied: nbclient>=0.5.0 in /usr/local/lib/python3.10/dist-packages (from nbconvert>=5->notebook==6.5.5->google-colab) (0.10.0)\n",
            "Requirement already satisfied: packaging in /usr/local/lib/python3.10/dist-packages (from nbconvert>=5->notebook==6.5.5->google-colab) (24.1)\n",
            "Requirement already satisfied: pandocfilters>=1.4.1 in /usr/local/lib/python3.10/dist-packages (from nbconvert>=5->notebook==6.5.5->google-colab) (1.5.1)\n",
            "Requirement already satisfied: tinycss2 in /usr/local/lib/python3.10/dist-packages (from nbconvert>=5->notebook==6.5.5->google-colab) (1.3.0)\n",
            "Requirement already satisfied: fastjsonschema>=2.15 in /usr/local/lib/python3.10/dist-packages (from nbformat->notebook==6.5.5->google-colab) (2.20.0)\n",
            "Requirement already satisfied: jsonschema>=2.6 in /usr/local/lib/python3.10/dist-packages (from nbformat->notebook==6.5.5->google-colab) (4.19.2)\n",
            "Requirement already satisfied: ptyprocess>=0.5 in /usr/local/lib/python3.10/dist-packages (from pexpect>4.3->ipython==7.34.0->google-colab) (0.7.0)\n",
            "Requirement already satisfied: wcwidth in /usr/local/lib/python3.10/dist-packages (from prompt-toolkit!=3.0.0,!=3.0.1,<3.1.0,>=2.0.0->ipython==7.34.0->google-colab) (0.2.13)\n",
            "Requirement already satisfied: pyasn1<0.7.0,>=0.4.6 in /usr/local/lib/python3.10/dist-packages (from pyasn1-modules>=0.2.1->google-auth==2.27.0->google-colab) (0.6.0)\n",
            "Requirement already satisfied: six>=1.5 in /usr/local/lib/python3.10/dist-packages (from python-dateutil>=2.1->ipyparallel==8.8.0->google-colab) (1.16.0)\n",
            "Requirement already satisfied: argon2-cffi-bindings in /usr/local/lib/python3.10/dist-packages (from argon2-cffi->notebook==6.5.5->google-colab) (21.2.0)\n",
            "Requirement already satisfied: attrs>=22.2.0 in /usr/local/lib/python3.10/dist-packages (from jsonschema>=2.6->nbformat->notebook==6.5.5->google-colab) (23.2.0)\n",
            "Requirement already satisfied: jsonschema-specifications>=2023.03.6 in /usr/local/lib/python3.10/dist-packages (from jsonschema>=2.6->nbformat->notebook==6.5.5->google-colab) (2023.12.1)\n",
            "Requirement already satisfied: referencing>=0.28.4 in /usr/local/lib/python3.10/dist-packages (from jsonschema>=2.6->nbformat->notebook==6.5.5->google-colab) (0.35.1)\n",
            "Requirement already satisfied: rpds-py>=0.7.1 in /usr/local/lib/python3.10/dist-packages (from jsonschema>=2.6->nbformat->notebook==6.5.5->google-colab) (0.18.1)\n",
            "Requirement already satisfied: jupyter-server<3,>=1.8 in /usr/local/lib/python3.10/dist-packages (from notebook-shim>=0.2.3->nbclassic>=0.4.7->notebook==6.5.5->google-colab) (1.24.0)\n",
            "Requirement already satisfied: cffi>=1.0.1 in /usr/local/lib/python3.10/dist-packages (from argon2-cffi-bindings->argon2-cffi->notebook==6.5.5->google-colab) (1.16.0)\n",
            "Requirement already satisfied: soupsieve>1.2 in /usr/local/lib/python3.10/dist-packages (from beautifulsoup4->nbconvert>=5->notebook==6.5.5->google-colab) (2.5)\n",
            "Requirement already satisfied: webencodings in /usr/local/lib/python3.10/dist-packages (from bleach->nbconvert>=5->notebook==6.5.5->google-colab) (0.5.1)\n",
            "Requirement already satisfied: pycparser in /usr/local/lib/python3.10/dist-packages (from cffi>=1.0.1->argon2-cffi-bindings->argon2-cffi->notebook==6.5.5->google-colab) (2.22)\n",
            "Requirement already satisfied: anyio<4,>=3.1.0 in /usr/local/lib/python3.10/dist-packages (from jupyter-server<3,>=1.8->notebook-shim>=0.2.3->nbclassic>=0.4.7->notebook==6.5.5->google-colab) (3.7.1)\n",
            "Requirement already satisfied: websocket-client in /usr/local/lib/python3.10/dist-packages (from jupyter-server<3,>=1.8->notebook-shim>=0.2.3->nbclassic>=0.4.7->notebook==6.5.5->google-colab) (1.8.0)\n",
            "Requirement already satisfied: sniffio>=1.1 in /usr/local/lib/python3.10/dist-packages (from anyio<4,>=3.1.0->jupyter-server<3,>=1.8->notebook-shim>=0.2.3->nbclassic>=0.4.7->notebook==6.5.5->google-colab) (1.3.1)\n",
            "Requirement already satisfied: exceptiongroup in /usr/local/lib/python3.10/dist-packages (from anyio<4,>=3.1.0->jupyter-server<3,>=1.8->notebook-shim>=0.2.3->nbclassic>=0.4.7->notebook==6.5.5->google-colab) (1.2.1)\n",
            "Installing collected packages: jedi\n",
            "Successfully installed jedi-0.19.1\n"
          ]
        }
      ]
    },
    {
      "cell_type": "code",
      "source": [
        "%cd /content/drive/MyDrive/yolov5\n",
        "%pip install -qr requirements.txt"
      ],
      "metadata": {
        "colab": {
          "base_uri": "https://localhost:8080/"
        },
        "id": "tXk-4DenYLnx",
        "outputId": "6565712c-5f1e-4fa3-8b10-fa48bbc5ee3f"
      },
      "execution_count": null,
      "outputs": [
        {
          "output_type": "stream",
          "name": "stdout",
          "text": [
            "/content/drive/MyDrive/yolov5\n",
            "\u001b[2K     \u001b[90m━━━━━━━━━━━━━━━━━━━━━━━━━━━━━━━━━━━━━━━━\u001b[0m \u001b[32m207.3/207.3 kB\u001b[0m \u001b[31m1.6 MB/s\u001b[0m eta \u001b[36m0:00:00\u001b[0m\n",
            "\u001b[2K     \u001b[90m━━━━━━━━━━━━━━━━━━━━━━━━━━━━━━━━━━━━━━━━\u001b[0m \u001b[32m799.6/799.6 kB\u001b[0m \u001b[31m8.6 MB/s\u001b[0m eta \u001b[36m0:00:00\u001b[0m\n",
            "\u001b[2K     \u001b[90m━━━━━━━━━━━━━━━━━━━━━━━━━━━━━━━━━━━━━━━━\u001b[0m \u001b[32m62.7/62.7 kB\u001b[0m \u001b[31m5.8 MB/s\u001b[0m eta \u001b[36m0:00:00\u001b[0m\n",
            "\u001b[2K     \u001b[90m━━━━━━━━━━━━━━━━━━━━━━━━━━━━━━━━━━━━━━━━\u001b[0m \u001b[32m21.3/21.3 MB\u001b[0m \u001b[31m34.4 MB/s\u001b[0m eta \u001b[36m0:00:00\u001b[0m\n",
            "\u001b[?25h"
          ]
        }
      ]
    },
    {
      "cell_type": "code",
      "source": [
        "import torch\n",
        "from drive.MyDrive.yolov5 import utils\n",
        "display = utils.notebook_init()"
      ],
      "metadata": {
        "colab": {
          "base_uri": "https://localhost:8080/"
        },
        "id": "cV8h3uhFYOik",
        "outputId": "b7af9bdb-b83c-498d-a59f-f4809fe4ed8a"
      },
      "execution_count": null,
      "outputs": [
        {
          "output_type": "stream",
          "name": "stderr",
          "text": [
            "YOLOv5 🚀 v7.0-338-gff063284 Python-3.10.12 torch-2.3.0+cu121 CUDA:0 (Tesla T4, 15102MiB)\n"
          ]
        },
        {
          "output_type": "stream",
          "name": "stdout",
          "text": [
            "Setup complete ✅ (2 CPUs, 12.7 GB RAM, 30.3/78.2 GB disk)\n"
          ]
        }
      ]
    },
    {
      "cell_type": "markdown",
      "source": [
        "# Buid Dataset"
      ],
      "metadata": {
        "id": "JEZrdyrIMH9j"
      }
    },
    {
      "cell_type": "markdown",
      "source": [
        "Download dataset:"
      ],
      "metadata": {
        "id": "TXBE0MDgXS_M"
      }
    },
    {
      "cell_type": "code",
      "source": [
        "# !gdown --id 1J9oDI4Uu27AqFOfdimU4Du4kn-zZzUlp"
      ],
      "metadata": {
        "id": "Ih9ycBm9XY6X"
      },
      "execution_count": null,
      "outputs": []
    },
    {
      "cell_type": "markdown",
      "source": [
        "Ta tiến hành annotation dataset:\n",
        "\n",
        "- Đối với dataset chưa có labels thì có thể sử dụng roboflow để tiến hành annotation [Roboflow]('https://roboflow.com/annotate?ref=ultralytics'). Mỗi file annotate có yêu cầu như sau:\n",
        " - One txt with labels file per image\n",
        "  - One row per object\n",
        "  - Each row contains: class_index bbox_x_center bbox_y_center bbox_width bbox_height\n",
        "  - Box coordinates must be normalized between 0 and 1\n",
        "\n",
        "VD: `5 0.505000 0.494167 0.920000 0.625000`\n",
        "\n",
        "- Sau khi annotation xong thì up file vào trong folder yolov5/data như sau:\n",
        "\n",
        "  - yolov5/data/vehicle/images\n",
        "    - train\n",
        "    - val\n",
        "\n",
        "  - yolov5/data/vehicle/labels\n",
        "    - train\n",
        "    - val\n",
        "\n"
      ],
      "metadata": {
        "id": "7hjc9CQvMRJo"
      }
    },
    {
      "cell_type": "markdown",
      "source": [
        "####Nếu trường hợp dataset chưa chia train và val thì có thể làm theo như sau:"
      ],
      "metadata": {
        "id": "JncvXG6tW11O"
      }
    },
    {
      "cell_type": "code",
      "source": [
        "import pandas as pd\n",
        "import os\n",
        "from shutil import copyfile\n",
        "df_label_train = pd.read_csv('./Labels/CSV Format/train_labels.csv')\n",
        "df_label_test = pd.read_csv('./Labels/CSV Format/test_labels.csv')\n",
        "\n",
        "filename_train = df_label_train ['filename']\n",
        "filename_test = df_label_test ['filename']\n",
        "\n",
        "#tạo các thư mục\n",
        "try:\n",
        "    os.mkdir('./train_data')\n",
        "    os.mkdir('./train_data/images')\n",
        "    os.mkdir('./train_data/labels')\n",
        "    os.mkdir('./train_data/images/train')\n",
        "    os.mkdir('./train_data/images/val')\n",
        "    os.mkdir('./train_data/labels/train')\n",
        "    os.mkdir('./train_data/labels/val')\n",
        "except OSError:\n",
        "    pass\n",
        "\n",
        "def split_train(SOURCE, DESTINATION_TRAIN,  DESTINATION_TEST):\n",
        "    for filename in filename_train:\n",
        "        this_file = SOURCE + filename\n",
        "        destination = DESTINATION_TRAIN + filename\n",
        "        copyfile(this_file, destination)\n",
        "\n",
        "    for filename in filename_test:\n",
        "        this_file = SOURCE + filename\n",
        "        destination = DESTINATION_TEST + filename\n",
        "        copyfile(this_file, destination)\n",
        "\n",
        "def split_test(SOURCE, DESTINATION_TRAIN,  DESTINATION_TEST):\n",
        "    for filename in filename_train:\n",
        "        this_file = SOURCE + filename.replace(\".jpg\",\".txt\")\n",
        "        destination = DESTINATION_TRAIN + filename.replace(\".jpg\",\".txt\")\n",
        "        copyfile(this_file, destination)\n",
        "\n",
        "    for filename in filename_test:\n",
        "        this_file = SOURCE + filename.replace(\".jpg\",\".txt\")\n",
        "        destination = DESTINATION_TEST + filename.replace(\".jpg\",\".txt\")\n",
        "        copyfile(this_file, destination)\n",
        "\n",
        "# #folder images\n",
        "source_images = './Images/'\n",
        "destination_images_train = './train_data/images/train/'\n",
        "destination_images_val = './train_data/images/val/'\n",
        "split_train(source_images, destination_images_train, destination_images_val)\n",
        "\n",
        "#folder labels\n",
        "source_labels = './Labels/TXT format/'\n",
        "destination_labels_train = './train_data/labels/train/'\n",
        "destination_labels_val = './train_data/labels/val/'\n",
        "split_test(source_labels, destination_labels_train, destination_labels_val)\n"
      ],
      "metadata": {
        "id": "1lv_3wRJWk-t"
      },
      "execution_count": null,
      "outputs": []
    },
    {
      "cell_type": "markdown",
      "source": [
        "### Tạo file `vehicle.yaml`\n",
        "  "
      ],
      "metadata": {
        "id": "YIB903jkPQzH"
      }
    },
    {
      "cell_type": "markdown",
      "source": [
        "Tạo một file *vehicle.yaml* trên máy với nội dung như bên dưới rồi upload lên folder *yolov5/data*:\n",
        "\n",
        "```yaml\n",
        "train: ../yolov5/data/vehicle/images/train\n",
        "val: ../yolov5/data/vehicle/images/val # val images (relative to 'path') 128 images\n",
        "names:\n",
        "  0: car\n",
        "  1: threewheel\n",
        "  2: bus\n",
        "  3: truck\n",
        "  4: motorbike\n",
        "  5: van\n",
        "  ```"
      ],
      "metadata": {
        "id": "8BYlOFpFZETj"
      }
    },
    {
      "cell_type": "markdown",
      "source": [
        "Lưu ý: phần list name của đối tượng phải để lần lượt theo đúng số thứ tự class 0,1,2,3...trong nhãn txt, nếu sai thì khi phát hiện các vật thể gán tên nhãn sẽ bị nhầm với nhau."
      ],
      "metadata": {
        "id": "CS_aIR8CYA74"
      }
    },
    {
      "cell_type": "markdown",
      "source": [
        "#Train\n"
      ],
      "metadata": {
        "id": "wBGgH8CjYNuL"
      }
    },
    {
      "cell_type": "markdown",
      "source": [
        "Tiến hành train model với custom dataset. Ta chọn pretrained yolov5 với các thông số phù hợp (cụ thể là chọn v5x -> mạnh nhất):"
      ],
      "metadata": {
        "id": "PGs1pg44YTSC"
      }
    },
    {
      "cell_type": "code",
      "source": [
        "# Train YOLOv5\n",
        "!python train.py --img 640 --batch 16 --epochs 20 --data vehicle.yaml --weights yolov5x.pt"
      ],
      "metadata": {
        "colab": {
          "base_uri": "https://localhost:8080/"
        },
        "id": "FMBmasLqYRTP",
        "outputId": "2cc156a5-ef74-46a5-e270-ff163863b458"
      },
      "execution_count": null,
      "outputs": [
        {
          "output_type": "stream",
          "name": "stdout",
          "text": [
            "2024-07-09 03:30:11.881393: E external/local_xla/xla/stream_executor/cuda/cuda_dnn.cc:9261] Unable to register cuDNN factory: Attempting to register factory for plugin cuDNN when one has already been registered\n",
            "2024-07-09 03:30:11.881440: E external/local_xla/xla/stream_executor/cuda/cuda_fft.cc:607] Unable to register cuFFT factory: Attempting to register factory for plugin cuFFT when one has already been registered\n",
            "2024-07-09 03:30:11.882793: E external/local_xla/xla/stream_executor/cuda/cuda_blas.cc:1515] Unable to register cuBLAS factory: Attempting to register factory for plugin cuBLAS when one has already been registered\n",
            "\u001b[34m\u001b[1mtrain: \u001b[0mweights=yolov5x.pt, cfg=, data=vehicle.yaml, hyp=data/hyps/hyp.scratch-low.yaml, epochs=20, batch_size=16, imgsz=640, rect=False, resume=False, nosave=False, noval=False, noautoanchor=False, noplots=False, evolve=None, evolve_population=data/hyps, resume_evolve=None, bucket=, cache=None, image_weights=False, device=, multi_scale=False, single_cls=False, optimizer=SGD, sync_bn=False, workers=8, project=runs/train, name=exp, exist_ok=False, quad=False, cos_lr=False, label_smoothing=0.0, patience=100, freeze=[0], save_period=-1, seed=0, local_rank=-1, entity=None, upload_dataset=False, bbox_interval=-1, artifact_alias=latest, ndjson_console=False, ndjson_file=False\n",
            "\u001b[34m\u001b[1mgithub: \u001b[0mup to date with https://github.com/ultralytics/yolov5 ✅\n",
            "YOLOv5 🚀 v7.0-338-gff063284 Python-3.10.12 torch-2.3.0+cu121 CUDA:0 (Tesla T4, 15102MiB)\n",
            "\n",
            "\u001b[34m\u001b[1mhyperparameters: \u001b[0mlr0=0.01, lrf=0.01, momentum=0.937, weight_decay=0.0005, warmup_epochs=3.0, warmup_momentum=0.8, warmup_bias_lr=0.1, box=0.05, cls=0.5, cls_pw=1.0, obj=1.0, obj_pw=1.0, iou_t=0.2, anchor_t=4.0, fl_gamma=0.0, hsv_h=0.015, hsv_s=0.7, hsv_v=0.4, degrees=0.0, translate=0.1, scale=0.5, shear=0.0, perspective=0.0, flipud=0.0, fliplr=0.5, mosaic=1.0, mixup=0.0, copy_paste=0.0\n",
            "\u001b[34m\u001b[1mComet: \u001b[0mrun 'pip install comet_ml' to automatically track and visualize YOLOv5 🚀 runs in Comet\n",
            "\u001b[34m\u001b[1mTensorBoard: \u001b[0mStart with 'tensorboard --logdir runs/train', view at http://localhost:6006/\n",
            "Overriding model.yaml nc=80 with nc=6\n",
            "\n",
            "                 from  n    params  module                                  arguments                     \n",
            "  0                -1  1      8800  models.common.Conv                      [3, 80, 6, 2, 2]              \n",
            "  1                -1  1    115520  models.common.Conv                      [80, 160, 3, 2]               \n",
            "  2                -1  4    309120  models.common.C3                        [160, 160, 4]                 \n",
            "  3                -1  1    461440  models.common.Conv                      [160, 320, 3, 2]              \n",
            "  4                -1  8   2259200  models.common.C3                        [320, 320, 8]                 \n",
            "  5                -1  1   1844480  models.common.Conv                      [320, 640, 3, 2]              \n",
            "  6                -1 12  13125120  models.common.C3                        [640, 640, 12]                \n",
            "  7                -1  1   7375360  models.common.Conv                      [640, 1280, 3, 2]             \n",
            "  8                -1  4  19676160  models.common.C3                        [1280, 1280, 4]               \n",
            "  9                -1  1   4099840  models.common.SPPF                      [1280, 1280, 5]               \n",
            " 10                -1  1    820480  models.common.Conv                      [1280, 640, 1, 1]             \n",
            " 11                -1  1         0  torch.nn.modules.upsampling.Upsample    [None, 2, 'nearest']          \n",
            " 12           [-1, 6]  1         0  models.common.Concat                    [1]                           \n",
            " 13                -1  4   5332480  models.common.C3                        [1280, 640, 4, False]         \n",
            " 14                -1  1    205440  models.common.Conv                      [640, 320, 1, 1]              \n",
            " 15                -1  1         0  torch.nn.modules.upsampling.Upsample    [None, 2, 'nearest']          \n",
            " 16           [-1, 4]  1         0  models.common.Concat                    [1]                           \n",
            " 17                -1  4   1335040  models.common.C3                        [640, 320, 4, False]          \n",
            " 18                -1  1    922240  models.common.Conv                      [320, 320, 3, 2]              \n",
            " 19          [-1, 14]  1         0  models.common.Concat                    [1]                           \n",
            " 20                -1  4   4922880  models.common.C3                        [640, 640, 4, False]          \n",
            " 21                -1  1   3687680  models.common.Conv                      [640, 640, 3, 2]              \n",
            " 22          [-1, 10]  1         0  models.common.Concat                    [1]                           \n",
            " 23                -1  4  19676160  models.common.C3                        [1280, 1280, 4, False]        \n",
            " 24      [17, 20, 23]  1     74019  models.yolo.Detect                      [6, [[10, 13, 16, 30, 33, 23], [30, 61, 62, 45, 59, 119], [116, 90, 156, 198, 373, 326]], [320, 640, 1280]]\n",
            "Model summary: 445 layers, 86251459 parameters, 86251459 gradients, 204.7 GFLOPs\n",
            "\n",
            "Transferred 739/745 items from yolov5x.pt\n",
            "\u001b[34m\u001b[1mAMP: \u001b[0mchecks passed ✅\n",
            "\u001b[34m\u001b[1moptimizer:\u001b[0m SGD(lr=0.01) with parameter groups 123 weight(decay=0.0), 126 weight(decay=0.0005), 126 bias\n",
            "\u001b[34m\u001b[1malbumentations: \u001b[0mBlur(p=0.01, blur_limit=(3, 7)), MedianBlur(p=0.01, blur_limit=(3, 7)), ToGray(p=0.01), CLAHE(p=0.01, clip_limit=(1, 4.0), tile_grid_size=(8, 8))\n",
            "/usr/lib/python3.10/multiprocessing/popen_fork.py:66: RuntimeWarning: os.fork() was called. os.fork() is incompatible with multithreaded code, and JAX is multithreaded, so this will likely lead to a deadlock.\n",
            "  self.pid = os.fork()\n",
            "\u001b[34m\u001b[1mtrain: \u001b[0mScanning /content/drive/MyDrive/yolov5/data/vehicle/labels/train... 2100 images, 93 backgrounds, 0 corrupt: 100% 2193/2193 [28:04<00:00,  1.30it/s]\n",
            "\u001b[34m\u001b[1mtrain: \u001b[0mNew cache created: /content/drive/MyDrive/yolov5/data/vehicle/labels/train.cache\n",
            "\u001b[34m\u001b[1mval: \u001b[0mScanning /content/drive/MyDrive/yolov5/data/vehicle/labels/val... 900 images, 0 backgrounds, 0 corrupt: 100% 900/900 [10:08<00:00,  1.48it/s]\n",
            "\u001b[34m\u001b[1mval: \u001b[0mWARNING ⚠️ /content/drive/MyDrive/yolov5/data/vehicle/images/val/car55.jpg: corrupt JPEG restored and saved\n",
            "\u001b[34m\u001b[1mval: \u001b[0mNew cache created: /content/drive/MyDrive/yolov5/data/vehicle/labels/val.cache\n",
            "\n",
            "\u001b[34m\u001b[1mAutoAnchor: \u001b[0m3.02 anchors/target, 1.000 Best Possible Recall (BPR). Current anchors are a good fit to dataset ✅\n",
            "Plotting labels to runs/train/exp3/labels.jpg... \n",
            "Image sizes 640 train, 640 val\n",
            "Using 2 dataloader workers\n",
            "Logging results to \u001b[1mruns/train/exp3\u001b[0m\n",
            "Starting training for 20 epochs...\n",
            "\n",
            "      Epoch    GPU_mem   box_loss   obj_loss   cls_loss  Instances       Size\n",
            "       0/19      14.7G     0.1021    0.03223    0.05425         45        640:  18% 25/138 [00:41<02:26,  1.30s/it]libpng warning: iCCP: known incorrect sRGB profile\n",
            "       0/19      14.7G     0.1008    0.03214    0.05414         39        640:  19% 26/138 [00:43<02:21,  1.27s/it]libpng warning: iCCP: known incorrect sRGB profile\n",
            "       0/19      14.7G    0.09538     0.0323    0.05343         53        640:  23% 32/138 [00:53<03:10,  1.79s/it]libpng warning: iCCP: known incorrect sRGB profile\n",
            "       0/19      14.7G    0.08782    0.03217    0.05239         49        640:  32% 44/138 [01:13<03:02,  1.94s/it]libpng warning: iCCP: known incorrect sRGB profile\n",
            "       0/19      14.7G    0.07569    0.02975    0.04906         54        640:  51% 71/138 [01:52<02:02,  1.83s/it]libpng warning: iCCP: known incorrect sRGB profile\n",
            "       0/19      14.7G    0.07356    0.02874    0.04825         39        640:  57% 79/138 [02:01<01:24,  1.43s/it]libpng warning: iCCP: known incorrect sRGB profile\n",
            "       0/19      14.7G    0.07153    0.02824    0.04743         53        640:  62% 85/138 [02:10<01:17,  1.46s/it]libpng warning: iCCP: known incorrect sRGB profile\n",
            "       0/19      14.7G    0.06745    0.02678    0.04503         51        640:  76% 105/138 [02:37<00:41,  1.25s/it]libpng warning: iCCP: known incorrect sRGB profile\n",
            "       0/19      14.8G     0.0627     0.0251    0.04122          4        640: 100% 138/138 [03:22<00:00,  1.47s/it]\n",
            "                 Class     Images  Instances          P          R      mAP50   mAP50-95:  69% 20/29 [00:21<00:07,  1.17it/s]libpng warning: iCCP: known incorrect sRGB profile\n",
            "                 Class     Images  Instances          P          R      mAP50   mAP50-95: 100% 29/29 [00:31<00:00,  1.09s/it]\n",
            "                   all        900       1150      0.551      0.786      0.787      0.487\n",
            "\n",
            "      Epoch    GPU_mem   box_loss   obj_loss   cls_loss  Instances       Size\n",
            "       1/19      13.7G    0.04738    0.01617    0.02678         55        640:  25% 34/138 [00:54<02:50,  1.64s/it]libpng warning: iCCP: known incorrect sRGB profile\n",
            "       1/19      13.7G    0.04695    0.01629    0.02652         58        640:  28% 38/138 [00:59<02:11,  1.32s/it]libpng warning: iCCP: known incorrect sRGB profile\n",
            "       1/19      13.7G    0.04766     0.0164    0.02569         47        640:  37% 51/138 [01:16<02:17,  1.58s/it]libpng warning: iCCP: known incorrect sRGB profile\n",
            "       1/19      13.7G    0.04783    0.01628    0.02586         48        640:  39% 54/138 [01:20<01:55,  1.38s/it]libpng warning: iCCP: known incorrect sRGB profile\n",
            "       1/19      13.7G    0.04802    0.01599    0.02438         48        640:  58% 80/138 [01:56<01:35,  1.65s/it]libpng warning: iCCP: known incorrect sRGB profile\n",
            "       1/19      13.7G    0.04831    0.01603    0.02343         50        640:  71% 98/138 [02:21<00:54,  1.36s/it]libpng warning: iCCP: known incorrect sRGB profile\n",
            "       1/19      13.7G    0.04822    0.01597    0.02323         46        640:  74% 102/138 [02:27<00:55,  1.53s/it]libpng warning: iCCP: known incorrect sRGB profile\n",
            "       1/19      13.7G    0.04874     0.0159    0.02298         55        640:  85% 117/138 [02:46<00:29,  1.39s/it]libpng warning: iCCP: known incorrect sRGB profile\n",
            "       1/19      13.9G    0.04859    0.01555    0.02215          2        640: 100% 138/138 [03:19<00:00,  1.44s/it]\n",
            "                 Class     Images  Instances          P          R      mAP50   mAP50-95:  69% 20/29 [00:19<00:09,  1.01s/it]libpng warning: iCCP: known incorrect sRGB profile\n",
            "                 Class     Images  Instances          P          R      mAP50   mAP50-95: 100% 29/29 [00:26<00:00,  1.09it/s]\n",
            "                   all        900       1150      0.588      0.821      0.803      0.481\n",
            "\n",
            "      Epoch    GPU_mem   box_loss   obj_loss   cls_loss  Instances       Size\n",
            "       2/19      13.9G    0.04768    0.01453    0.01717         47        640:   1% 2/138 [00:02<02:33,  1.13s/it]libpng warning: iCCP: known incorrect sRGB profile\n",
            "       2/19      13.9G    0.04736    0.01362    0.01665         42        640:  37% 51/138 [01:08<02:13,  1.54s/it]libpng warning: iCCP: known incorrect sRGB profile\n",
            "       2/19      13.9G    0.04644    0.01354    0.01723         51        640:  59% 82/138 [01:51<01:29,  1.60s/it]libpng warning: iCCP: known incorrect sRGB profile\n",
            "       2/19      13.9G    0.04651    0.01355    0.01732         54        640:  67% 93/138 [02:07<01:13,  1.64s/it]libpng warning: iCCP: known incorrect sRGB profile\n",
            "       2/19      13.9G    0.04666    0.01362    0.01725         62        640:  70% 97/138 [02:14<01:09,  1.69s/it]libpng warning: iCCP: known incorrect sRGB profile\n",
            "       2/19      13.9G     0.0465    0.01363    0.01707         52        640:  73% 101/138 [02:19<00:47,  1.28s/it]libpng warning: iCCP: known incorrect sRGB profile\n",
            "       2/19      13.9G    0.04639    0.01348    0.01694         46        640:  78% 107/138 [02:26<00:38,  1.26s/it]libpng warning: iCCP: known incorrect sRGB profile\n",
            "       2/19      13.9G    0.04614    0.01342    0.01646         53        640:  98% 135/138 [03:04<00:03,  1.28s/it]libpng warning: iCCP: known incorrect sRGB profile\n",
            "       2/19      13.9G    0.04623    0.01344     0.0164         57        640:  99% 136/138 [03:05<00:02,  1.24s/it]libpng warning: iCCP: known incorrect sRGB profile\n",
            "       2/19      13.9G    0.04606    0.01337     0.0164          1        640: 100% 138/138 [03:07<00:00,  1.36s/it]\n",
            "                 Class     Images  Instances          P          R      mAP50   mAP50-95:  69% 20/29 [00:20<00:09,  1.01s/it]libpng warning: iCCP: known incorrect sRGB profile\n",
            "                 Class     Images  Instances          P          R      mAP50   mAP50-95: 100% 29/29 [00:28<00:00,  1.00it/s]\n",
            "                   all        900       1150      0.635      0.858       0.84      0.551\n",
            "\n",
            "      Epoch    GPU_mem   box_loss   obj_loss   cls_loss  Instances       Size\n",
            "       3/19      13.9G    0.04701    0.01345    0.01602         45        640:   6% 8/138 [00:09<02:38,  1.22s/it]libpng warning: iCCP: known incorrect sRGB profile\n",
            "       3/19      13.9G    0.04729     0.0138    0.01667         51        640:   7% 10/138 [00:13<03:10,  1.49s/it]libpng warning: iCCP: known incorrect sRGB profile\n",
            "       3/19      13.9G    0.04293    0.01328    0.01592         48        640:  43% 60/138 [01:25<01:32,  1.18s/it]libpng warning: iCCP: known incorrect sRGB profile\n",
            "       3/19      13.9G    0.04198    0.01314    0.01574         37        640:  57% 79/138 [01:50<01:28,  1.51s/it]libpng warning: iCCP: known incorrect sRGB profile\n",
            "       3/19      13.9G    0.04095    0.01308     0.0157         48        640:  71% 98/138 [02:18<01:04,  1.62s/it]libpng warning: iCCP: known incorrect sRGB profile\n",
            "       3/19      13.9G     0.0405    0.01312    0.01586         36        640:  83% 114/138 [02:40<00:30,  1.28s/it]libpng warning: iCCP: known incorrect sRGB profile\n",
            "       3/19      13.9G    0.03979    0.01312    0.01588          4        640: 100% 138/138 [03:13<00:00,  1.40s/it]\n",
            "                 Class     Images  Instances          P          R      mAP50   mAP50-95:  69% 20/29 [00:19<00:09,  1.09s/it]libpng warning: iCCP: known incorrect sRGB profile\n",
            "                 Class     Images  Instances          P          R      mAP50   mAP50-95: 100% 29/29 [00:27<00:00,  1.04it/s]\n",
            "                   all        900       1150      0.781      0.871      0.889      0.681\n",
            "\n",
            "      Epoch    GPU_mem   box_loss   obj_loss   cls_loss  Instances       Size\n",
            "       4/19      13.9G    0.03399    0.01265    0.01711         65        640:  28% 38/138 [00:54<01:56,  1.17s/it]libpng warning: iCCP: known incorrect sRGB profile\n",
            "       4/19      13.9G     0.0338    0.01227    0.01659         43        640:  36% 50/138 [01:09<01:49,  1.25s/it]libpng warning: iCCP: known incorrect sRGB profile\n",
            "       4/19      13.9G    0.03408    0.01264    0.01625         57        640:  43% 59/138 [01:24<01:49,  1.39s/it]libpng warning: iCCP: known incorrect sRGB profile\n",
            "       4/19      13.9G    0.03354    0.01305    0.01531         60        640:  78% 108/138 [02:30<00:35,  1.17s/it]libpng warning: iCCP: known incorrect sRGB profile\n",
            "       4/19      13.9G    0.03375    0.01313    0.01507         45        640:  84% 116/138 [02:43<00:33,  1.53s/it]libpng warning: iCCP: known incorrect sRGB profile\n",
            "       4/19      13.9G     0.0337     0.0132    0.01515         55        640:  87% 120/138 [02:48<00:22,  1.25s/it]libpng warning: iCCP: known incorrect sRGB profile\n",
            "       4/19      13.9G    0.03371    0.01318    0.01508         47        640:  92% 127/138 [02:56<00:12,  1.18s/it]libpng warning: iCCP: known incorrect sRGB profile\n",
            "       4/19      13.9G    0.03381    0.01325    0.01494          5        640: 100% 138/138 [03:12<00:00,  1.40s/it]\n",
            "                 Class     Images  Instances          P          R      mAP50   mAP50-95:  69% 20/29 [00:19<00:07,  1.28it/s]libpng warning: iCCP: known incorrect sRGB profile\n",
            "                 Class     Images  Instances          P          R      mAP50   mAP50-95: 100% 29/29 [00:27<00:00,  1.05it/s]\n",
            "                   all        900       1150      0.868      0.883      0.933      0.733\n",
            "\n",
            "      Epoch    GPU_mem   box_loss   obj_loss   cls_loss  Instances       Size\n",
            "  0% 0/138 [00:00<?, ?it/s]libpng warning: iCCP: known incorrect sRGB profile\n",
            "       5/19      13.9G    0.03388    0.01338    0.01416         51        640:  38% 52/138 [01:16<02:15,  1.58s/it]libpng warning: iCCP: known incorrect sRGB profile\n",
            "libpng warning: iCCP: known incorrect sRGB profile\n",
            "       5/19      13.9G    0.03374    0.01335    0.01401         43        640:  40% 55/138 [01:20<01:51,  1.34s/it]libpng warning: iCCP: known incorrect sRGB profile\n",
            "       5/19      13.9G    0.03365    0.01348    0.01357         46        640:  52% 72/138 [01:41<01:19,  1.21s/it]libpng warning: iCCP: known incorrect sRGB profile\n",
            "       5/19      13.9G    0.03365    0.01347    0.01352         42        640:  53% 73/138 [01:42<01:16,  1.17s/it]libpng warning: iCCP: known incorrect sRGB profile\n",
            "       5/19      13.9G    0.03333     0.0133    0.01388         55        640:  92% 127/138 [02:56<00:16,  1.46s/it]libpng warning: iCCP: known incorrect sRGB profile\n",
            "       5/19      13.9G    0.03321    0.01329    0.01388         51        640:  95% 131/138 [03:01<00:09,  1.40s/it]libpng warning: iCCP: known incorrect sRGB profile\n",
            "       5/19      13.9G    0.03296    0.01332    0.01394          3        640: 100% 138/138 [03:12<00:00,  1.39s/it]\n",
            "                 Class     Images  Instances          P          R      mAP50   mAP50-95:  69% 20/29 [00:19<00:09,  1.06s/it]libpng warning: iCCP: known incorrect sRGB profile\n",
            "                 Class     Images  Instances          P          R      mAP50   mAP50-95: 100% 29/29 [00:27<00:00,  1.05it/s]\n",
            "                   all        900       1150      0.922      0.847      0.944      0.751\n",
            "\n",
            "      Epoch    GPU_mem   box_loss   obj_loss   cls_loss  Instances       Size\n",
            "       6/19      13.9G      0.031     0.0131    0.01748         49        640:  17% 23/138 [00:32<02:29,  1.30s/it]libpng warning: iCCP: known incorrect sRGB profile\n",
            "       6/19      13.9G    0.03191     0.0134    0.01711         47        640:  30% 41/138 [00:58<02:07,  1.31s/it]libpng warning: iCCP: known incorrect sRGB profile\n",
            "       6/19      13.9G    0.03095    0.01336    0.01572         54        640:  43% 59/138 [01:25<02:00,  1.53s/it]libpng warning: iCCP: known incorrect sRGB profile\n",
            "       6/19      13.9G    0.03102    0.01333    0.01583         44        640:  49% 67/138 [01:35<01:23,  1.17s/it]libpng warning: iCCP: known incorrect sRGB profile\n",
            "       6/19      13.9G    0.03138    0.01338     0.0161         48        640:  51% 71/138 [01:40<01:24,  1.25s/it]libpng warning: iCCP: known incorrect sRGB profile\n",
            "       6/19      13.9G    0.03139    0.01336    0.01605         44        640:  54% 74/138 [01:45<01:40,  1.57s/it]libpng warning: iCCP: known incorrect sRGB profile\n",
            "       6/19      13.9G    0.03136    0.01327    0.01618         54        640:  56% 77/138 [01:48<01:18,  1.29s/it]libpng warning: iCCP: known incorrect sRGB profile\n",
            "       6/19      13.9G    0.03132    0.01326    0.01607         49        640:  57% 78/138 [01:50<01:14,  1.24s/it]libpng warning: iCCP: known incorrect sRGB profile\n",
            "       6/19      13.9G    0.03133    0.01324     0.0157         46        640:  72% 99/138 [02:18<01:00,  1.54s/it]libpng warning: iCCP: known incorrect sRGB profile\n",
            "       6/19      13.9G    0.03117    0.01323    0.01599         50        640:  91% 126/138 [02:56<00:14,  1.25s/it]libpng warning: iCCP: known incorrect sRGB profile\n",
            "       6/19      13.9G    0.03135    0.01325    0.01577          2        640: 100% 138/138 [03:14<00:00,  1.41s/it]\n",
            "                 Class     Images  Instances          P          R      mAP50   mAP50-95:  69% 20/29 [00:19<00:07,  1.27it/s]libpng warning: iCCP: known incorrect sRGB profile\n",
            "                 Class     Images  Instances          P          R      mAP50   mAP50-95: 100% 29/29 [00:27<00:00,  1.04it/s]\n",
            "                   all        900       1150      0.915      0.912      0.956      0.782\n",
            "\n",
            "      Epoch    GPU_mem   box_loss   obj_loss   cls_loss  Instances       Size\n",
            "       7/19      13.9G    0.02508    0.01229   0.008187         44        640:   4% 6/138 [00:06<02:26,  1.11s/it]libpng warning: iCCP: known incorrect sRGB profile\n",
            "       7/19      13.9G    0.02751    0.01198    0.01244         42        640:  18% 25/138 [00:35<02:47,  1.48s/it]libpng warning: iCCP: known incorrect sRGB profile\n",
            "       7/19      13.9G       0.03    0.01253     0.0112         37        640:  57% 78/138 [01:51<01:12,  1.21s/it]libpng warning: iCCP: known incorrect sRGB profile\n",
            "       7/19      13.9G    0.02964    0.01256    0.01154         47        640:  69% 95/138 [02:15<01:01,  1.42s/it]libpng warning: iCCP: known incorrect sRGB profile\n",
            "       7/19      13.9G    0.02996    0.01259    0.01129         43        640:  83% 115/138 [02:41<00:29,  1.28s/it]libpng warning: iCCP: known incorrect sRGB profile\n",
            "       7/19      13.9G    0.03006    0.01257     0.0113         48        640:  86% 118/138 [02:44<00:23,  1.17s/it]libpng warning: iCCP: known incorrect sRGB profile\n",
            "       7/19      13.9G    0.03005    0.01271    0.01154          6        640: 100% 138/138 [03:10<00:00,  1.38s/it]\n",
            "                 Class     Images  Instances          P          R      mAP50   mAP50-95:  69% 20/29 [00:19<00:08,  1.02it/s]libpng warning: iCCP: known incorrect sRGB profile\n",
            "                 Class     Images  Instances          P          R      mAP50   mAP50-95: 100% 29/29 [00:28<00:00,  1.01it/s]\n",
            "                   all        900       1150      0.923      0.881      0.964       0.79\n",
            "\n",
            "      Epoch    GPU_mem   box_loss   obj_loss   cls_loss  Instances       Size\n",
            "       8/19      13.9G    0.02686    0.01216    0.01205         53        640:  22% 30/138 [00:42<02:59,  1.66s/it]libpng warning: iCCP: known incorrect sRGB profile\n",
            "       8/19      13.9G    0.02699    0.01226    0.01197         58        640:  22% 31/138 [00:44<02:57,  1.66s/it]libpng warning: iCCP: known incorrect sRGB profile\n",
            "       8/19      13.9G    0.02697    0.01195     0.0121         42        640:  25% 35/138 [00:49<02:07,  1.24s/it]libpng warning: iCCP: known incorrect sRGB profile\n",
            "       8/19      13.9G    0.02722    0.01203    0.01215         64        640:  27% 37/138 [00:51<02:02,  1.22s/it]libpng warning: iCCP: known incorrect sRGB profile\n",
            "       8/19      13.9G    0.02738    0.01227    0.01224         46        640:  46% 64/138 [01:29<01:28,  1.20s/it]libpng warning: iCCP: known incorrect sRGB profile\n",
            "       8/19      13.9G    0.02778    0.01244    0.01233         50        640:  53% 73/138 [01:40<01:27,  1.35s/it]libpng warning: iCCP: known incorrect sRGB profile\n",
            "       8/19      13.9G     0.0276    0.01234    0.01218         41        640:  59% 82/138 [01:51<01:05,  1.17s/it]libpng warning: iCCP: known incorrect sRGB profile\n",
            "       8/19      13.9G    0.02754    0.01232    0.01194         37        640:  71% 98/138 [02:14<00:49,  1.23s/it]libpng warning: iCCP: known incorrect sRGB profile\n",
            "       8/19      13.9G    0.02748     0.0123    0.01176         47        640:  75% 103/138 [02:24<00:55,  1.58s/it]libpng warning: iCCP: known incorrect sRGB profile\n",
            "       8/19      13.9G    0.02782    0.01228    0.01142         48        640:  81% 112/138 [02:35<00:32,  1.24s/it]libpng warning: iCCP: known incorrect sRGB profile\n",
            "       8/19      13.9G    0.02749    0.01216    0.01132         48        640:  97% 134/138 [03:08<00:05,  1.32s/it]libpng warning: iCCP: known incorrect sRGB profile\n",
            "       8/19      13.9G    0.02749    0.01214    0.01129         51        640:  99% 136/138 [03:10<00:02,  1.21s/it]libpng warning: iCCP: known incorrect sRGB profile\n",
            "       8/19      13.9G     0.0273    0.01212    0.01125          2        640: 100% 138/138 [03:12<00:00,  1.39s/it]\n",
            "                 Class     Images  Instances          P          R      mAP50   mAP50-95:  69% 20/29 [00:19<00:06,  1.30it/s]libpng warning: iCCP: known incorrect sRGB profile\n",
            "                 Class     Images  Instances          P          R      mAP50   mAP50-95: 100% 29/29 [00:28<00:00,  1.00it/s]\n",
            "                   all        900       1150      0.948      0.895       0.96      0.816\n",
            "\n",
            "      Epoch    GPU_mem   box_loss   obj_loss   cls_loss  Instances       Size\n",
            "       9/19      13.9G    0.02722     0.0124    0.01027         52        640:   9% 13/138 [00:19<03:40,  1.76s/it]libpng warning: iCCP: known incorrect sRGB profile\n",
            "       9/19      13.9G    0.02723    0.01238    0.01131         56        640:  14% 19/138 [00:29<03:19,  1.68s/it]libpng warning: iCCP: known incorrect sRGB profile\n",
            "       9/19      13.9G    0.02643    0.01201    0.01024         51        640:  29% 40/138 [00:57<01:53,  1.16s/it]libpng warning: iCCP: known incorrect sRGB profile\n",
            "       9/19      13.9G    0.02618    0.01194   0.009963         53        640:  32% 44/138 [01:03<02:03,  1.32s/it]libpng warning: iCCP: known incorrect sRGB profile\n",
            "       9/19      13.9G    0.02623    0.01179    0.01022         34        640:  44% 61/138 [01:26<01:53,  1.48s/it]libpng warning: iCCP: known incorrect sRGB profile\n",
            "       9/19      13.9G    0.02642    0.01183    0.01013         59        640:  46% 64/138 [01:30<01:31,  1.24s/it]libpng warning: iCCP: known incorrect sRGB profile\n",
            "       9/19      13.9G     0.0265    0.01193   0.009971         59        640:  62% 86/138 [02:01<01:18,  1.52s/it]libpng warning: iCCP: known incorrect sRGB profile\n",
            "       9/19      13.9G    0.02663    0.01182    0.01001         39        640:  68% 94/138 [02:13<00:56,  1.27s/it]libpng warning: iCCP: known incorrect sRGB profile\n",
            "       9/19      13.9G    0.02641    0.01175   0.009958         43        640:  72% 100/138 [02:24<01:02,  1.66s/it]libpng warning: iCCP: known incorrect sRGB profile\n",
            "       9/19      13.9G    0.02639    0.01172   0.009916         57        640:  75% 104/138 [02:31<00:51,  1.50s/it]libpng warning: iCCP: known incorrect sRGB profile\n",
            "       9/19      13.9G    0.02653    0.01186   0.009853         50        640:  81% 112/138 [02:40<00:32,  1.25s/it]libpng warning: iCCP: known incorrect sRGB profile\n",
            "       9/19      13.9G     0.0264    0.01184   0.009973         41        640:  86% 118/138 [02:50<00:28,  1.41s/it]libpng warning: iCCP: known incorrect sRGB profile\n",
            "       9/19      13.9G    0.02633    0.01181    0.01048          2        640: 100% 138/138 [03:15<00:00,  1.42s/it]\n",
            "                 Class     Images  Instances          P          R      mAP50   mAP50-95:  69% 20/29 [00:19<00:06,  1.29it/s]libpng warning: iCCP: known incorrect sRGB profile\n",
            "                 Class     Images  Instances          P          R      mAP50   mAP50-95: 100% 29/29 [00:27<00:00,  1.05it/s]\n",
            "                   all        900       1150      0.926      0.906      0.962      0.823\n",
            "\n",
            "      Epoch    GPU_mem   box_loss   obj_loss   cls_loss  Instances       Size\n",
            "      10/19      13.9G    0.02511    0.01103    0.01725         51        640:  11% 15/138 [00:21<02:44,  1.34s/it]libpng warning: iCCP: known incorrect sRGB profile\n",
            "      10/19      13.9G      0.025    0.01101    0.01738         47        640:  12% 16/138 [00:23<03:11,  1.57s/it]libpng warning: iCCP: known incorrect sRGB profile\n",
            "      10/19      13.9G     0.0239    0.01106    0.01544         37        640:  17% 23/138 [00:36<02:55,  1.53s/it]libpng warning: iCCP: known incorrect sRGB profile\n",
            "libpng warning: iCCP: known incorrect sRGB profile\n",
            "      10/19      13.9G    0.02593    0.01206    0.01328         42        640:  53% 73/138 [01:47<01:18,  1.21s/it]libpng warning: iCCP: known incorrect sRGB profile\n",
            "      10/19      13.9G    0.02542     0.0119    0.01295         35        640:  69% 95/138 [02:18<01:02,  1.45s/it]libpng warning: iCCP: known incorrect sRGB profile\n",
            "      10/19      13.9G    0.02526    0.01184    0.01244         53        640:  87% 120/138 [02:50<00:22,  1.25s/it]libpng warning: iCCP: known incorrect sRGB profile\n",
            "      10/19      13.9G    0.02512    0.01171    0.01248         46        640:  94% 130/138 [03:04<00:09,  1.20s/it]libpng warning: iCCP: known incorrect sRGB profile\n",
            "      10/19      13.9G    0.02509    0.01169    0.01242         41        640:  96% 132/138 [03:06<00:06,  1.15s/it]libpng warning: iCCP: known incorrect sRGB profile\n",
            "      10/19      13.9G    0.02527    0.01198     0.0123          5        640: 100% 138/138 [03:13<00:00,  1.40s/it]\n",
            "                 Class     Images  Instances          P          R      mAP50   mAP50-95:  69% 20/29 [00:20<00:09,  1.09s/it]libpng warning: iCCP: known incorrect sRGB profile\n",
            "                 Class     Images  Instances          P          R      mAP50   mAP50-95: 100% 29/29 [00:28<00:00,  1.01it/s]\n",
            "                   all        900       1150      0.941      0.921      0.969      0.827\n",
            "\n",
            "      Epoch    GPU_mem   box_loss   obj_loss   cls_loss  Instances       Size\n",
            "      11/19      13.9G    0.02337    0.01115   0.009237         41        640:  20% 27/138 [00:40<02:22,  1.28s/it]libpng warning: iCCP: known incorrect sRGB profile\n",
            "      11/19      13.9G    0.02348    0.01109   0.009662         46        640:  25% 35/138 [00:53<02:27,  1.43s/it]libpng warning: iCCP: known incorrect sRGB profile\n",
            "libpng warning: iCCP: known incorrect sRGB profile\n",
            "      11/19      13.9G    0.02298    0.01117   0.009356         50        640:  29% 40/138 [01:00<02:12,  1.35s/it]libpng warning: iCCP: known incorrect sRGB profile\n",
            "      11/19      13.9G     0.0233    0.01133   0.009033         54        640:  34% 47/138 [01:11<02:20,  1.54s/it]libpng warning: iCCP: known incorrect sRGB profile\n",
            "libpng warning: iCCP: known incorrect sRGB profile\n",
            "      11/19      13.9G    0.02336    0.01125   0.008983         44        640:  45% 62/138 [01:33<01:57,  1.54s/it]libpng warning: iCCP: known incorrect sRGB profile\n",
            "      11/19      13.9G    0.02378    0.01142   0.008935         50        640:  79% 109/138 [02:38<00:34,  1.20s/it]libpng warning: iCCP: known incorrect sRGB profile\n",
            "      11/19      13.9G    0.02387    0.01142   0.008912         49        640:  90% 124/138 [02:58<00:17,  1.27s/it]libpng warning: iCCP: known incorrect sRGB profile\n",
            "      11/19      13.9G    0.02383    0.01142   0.008828         49        640:  92% 127/138 [03:03<00:16,  1.50s/it]libpng warning: iCCP: known incorrect sRGB profile\n",
            "      11/19      13.9G    0.02367     0.0114   0.008902          2        640: 100% 138/138 [03:18<00:00,  1.44s/it]\n",
            "                 Class     Images  Instances          P          R      mAP50   mAP50-95:  69% 20/29 [00:19<00:07,  1.26it/s]libpng warning: iCCP: known incorrect sRGB profile\n",
            "                 Class     Images  Instances          P          R      mAP50   mAP50-95: 100% 29/29 [00:27<00:00,  1.07it/s]\n",
            "                   all        900       1150      0.936      0.933      0.976      0.855\n",
            "\n",
            "      Epoch    GPU_mem   box_loss   obj_loss   cls_loss  Instances       Size\n",
            "      12/19      13.9G    0.02201    0.01035   0.008766         47        640:  31% 43/138 [01:01<02:12,  1.39s/it]libpng warning: iCCP: known incorrect sRGB profile\n",
            "      12/19      13.9G     0.0216    0.01056   0.008054         48        640:  41% 56/138 [01:18<02:01,  1.48s/it]libpng warning: iCCP: known incorrect sRGB profile\n",
            "      12/19      13.9G    0.02215    0.01069   0.008837         38        640:  60% 83/138 [01:58<01:43,  1.87s/it]libpng warning: iCCP: known incorrect sRGB profile\n",
            "      12/19      13.9G    0.02215    0.01067    0.00887         48        640:  64% 88/138 [02:04<01:05,  1.31s/it]libpng warning: iCCP: known incorrect sRGB profile\n",
            "      12/19      13.9G    0.02215    0.01072   0.008729         62        640:  67% 93/138 [02:11<00:57,  1.27s/it]libpng warning: iCCP: known incorrect sRGB profile\n",
            "      12/19      13.9G    0.02223    0.01079   0.008544         51        640:  88% 122/138 [02:51<00:18,  1.17s/it]libpng warning: iCCP: known incorrect sRGB profile\n",
            "      12/19      13.9G    0.02224    0.01083   0.008708          4        640: 100% 138/138 [03:11<00:00,  1.38s/it]\n",
            "                 Class     Images  Instances          P          R      mAP50   mAP50-95:  69% 20/29 [00:19<00:06,  1.31it/s]libpng warning: iCCP: known incorrect sRGB profile\n",
            "                 Class     Images  Instances          P          R      mAP50   mAP50-95: 100% 29/29 [00:29<00:00,  1.00s/it]\n",
            "                   all        900       1150      0.945      0.944      0.974      0.854\n",
            "\n",
            "      Epoch    GPU_mem   box_loss   obj_loss   cls_loss  Instances       Size\n",
            "      13/19      13.9G    0.02397    0.01073   0.006873         41        640:  11% 15/138 [00:18<02:52,  1.40s/it]libpng warning: iCCP: known incorrect sRGB profile\n",
            "      13/19      13.9G    0.02284    0.01044   0.007159         54        640:  16% 22/138 [00:26<02:17,  1.18s/it]libpng warning: iCCP: known incorrect sRGB profile\n",
            "      13/19      13.9G     0.0228    0.01055   0.007095         61        640:  17% 23/138 [00:28<02:18,  1.20s/it]libpng warning: iCCP: known incorrect sRGB profile\n",
            "      13/19      13.9G    0.02224    0.01052   0.007126         42        640:  21% 29/138 [00:38<02:52,  1.59s/it]libpng warning: iCCP: known incorrect sRGB profile\n",
            "      13/19      13.9G     0.0218    0.01066   0.007844         51        640:  41% 56/138 [01:17<02:14,  1.64s/it]libpng warning: iCCP: known incorrect sRGB profile\n",
            "      13/19      13.9G    0.02197    0.01074   0.007589         55        640:  50% 69/138 [01:36<02:27,  2.14s/it]libpng warning: iCCP: known incorrect sRGB profile\n",
            "      13/19      13.9G    0.02195    0.01088   0.007529         70        640:  58% 80/138 [01:49<01:09,  1.19s/it]libpng warning: iCCP: known incorrect sRGB profile\n",
            "      13/19      13.9G    0.02182    0.01086   0.007535         44        640:  64% 88/138 [02:02<01:08,  1.37s/it]libpng warning: iCCP: known incorrect sRGB profile\n",
            "      13/19      13.9G    0.02149    0.01074   0.007437         45        640:  74% 102/138 [02:19<00:48,  1.34s/it]libpng warning: iCCP: known incorrect sRGB profile\n",
            "      13/19      13.9G    0.02143    0.01066   0.007671          2        640: 100% 138/138 [03:06<00:00,  1.35s/it]\n",
            "                 Class     Images  Instances          P          R      mAP50   mAP50-95:  69% 20/29 [00:20<00:07,  1.25it/s]libpng warning: iCCP: known incorrect sRGB profile\n",
            "                 Class     Images  Instances          P          R      mAP50   mAP50-95: 100% 29/29 [00:27<00:00,  1.04it/s]\n",
            "                   all        900       1150       0.96      0.944      0.979      0.855\n",
            "\n",
            "      Epoch    GPU_mem   box_loss   obj_loss   cls_loss  Instances       Size\n",
            "      14/19      13.9G    0.02136    0.01027   0.005853         59        640:   7% 10/138 [00:14<04:01,  1.88s/it]libpng warning: iCCP: known incorrect sRGB profile\n",
            "      14/19      13.9G    0.02086   0.009926    0.00703         48        640:  14% 19/138 [00:26<02:37,  1.33s/it]libpng warning: iCCP: known incorrect sRGB profile\n",
            "      14/19      13.9G    0.02022   0.009952   0.006978         38        640:  25% 35/138 [00:55<03:55,  2.28s/it]libpng warning: iCCP: known incorrect sRGB profile\n",
            "      14/19      13.9G    0.02019    0.01025   0.007018         41        640:  36% 49/138 [01:13<02:32,  1.71s/it]libpng warning: iCCP: known incorrect sRGB profile\n",
            "      14/19      13.9G    0.02034    0.01033   0.006616         57        640:  57% 78/138 [01:51<01:35,  1.59s/it]libpng warning: iCCP: known incorrect sRGB profile\n",
            "      14/19      13.9G    0.02036     0.0104   0.006556         63        640:  58% 80/138 [01:54<01:25,  1.48s/it]libpng warning: iCCP: known incorrect sRGB profile\n",
            "      14/19      13.9G    0.02013    0.01017   0.006771         46        640:  89% 123/138 [02:52<00:21,  1.40s/it]libpng warning: iCCP: known incorrect sRGB profile\n",
            "      14/19      13.9G    0.02017    0.01013   0.006752         41        640:  92% 127/138 [02:59<00:16,  1.47s/it]libpng warning: iCCP: known incorrect sRGB profile\n",
            "      14/19      13.9G    0.02017    0.01009    0.00665         45        640:  99% 136/138 [03:13<00:04,  2.25s/it]libpng warning: iCCP: known incorrect sRGB profile\n",
            "      14/19      13.9G    0.02009    0.01005   0.007116          2        640: 100% 138/138 [03:15<00:00,  1.41s/it]\n",
            "                 Class     Images  Instances          P          R      mAP50   mAP50-95:  69% 20/29 [00:18<00:10,  1.14s/it]libpng warning: iCCP: known incorrect sRGB profile\n",
            "                 Class     Images  Instances          P          R      mAP50   mAP50-95: 100% 29/29 [00:26<00:00,  1.10it/s]\n",
            "                   all        900       1150      0.976      0.935       0.98       0.87\n",
            "\n",
            "      Epoch    GPU_mem   box_loss   obj_loss   cls_loss  Instances       Size\n",
            "      15/19      13.9G     0.0203    0.01004   0.008636         42        640:  25% 35/138 [00:54<02:07,  1.24s/it]libpng warning: iCCP: known incorrect sRGB profile\n",
            "      15/19      13.9G     0.0199   0.009984   0.008366         43        640:  27% 37/138 [00:56<01:59,  1.18s/it]libpng warning: iCCP: known incorrect sRGB profile\n",
            "      15/19      13.9G    0.02001    0.00994   0.008082         36        640:  28% 39/138 [00:59<01:58,  1.20s/it]libpng warning: iCCP: known incorrect sRGB profile\n",
            "      15/19      13.9G    0.01999   0.009983   0.008006         45        640:  43% 59/138 [01:26<01:59,  1.51s/it]libpng warning: iCCP: known incorrect sRGB profile\n",
            "      15/19      13.9G     0.0197   0.009887   0.007433         52        640:  56% 77/138 [01:52<01:34,  1.55s/it]libpng warning: iCCP: known incorrect sRGB profile\n",
            "      15/19      13.9G    0.01935   0.009951   0.006875         50        640:  80% 110/138 [02:36<00:33,  1.21s/it]libpng warning: iCCP: known incorrect sRGB profile\n",
            "      15/19      13.9G    0.01929    0.01003    0.00656         46        640:  96% 133/138 [03:09<00:08,  1.68s/it]libpng warning: iCCP: known incorrect sRGB profile\n",
            "      15/19      13.9G    0.01927   0.009988   0.006515          3        640: 100% 138/138 [03:15<00:00,  1.42s/it]\n",
            "                 Class     Images  Instances          P          R      mAP50   mAP50-95:  69% 20/29 [00:19<00:07,  1.23it/s]libpng warning: iCCP: known incorrect sRGB profile\n",
            "                 Class     Images  Instances          P          R      mAP50   mAP50-95: 100% 29/29 [00:26<00:00,  1.09it/s]\n",
            "                   all        900       1150      0.962      0.957      0.983      0.896\n",
            "\n",
            "      Epoch    GPU_mem   box_loss   obj_loss   cls_loss  Instances       Size\n",
            "      16/19      13.9G     0.0204    0.01042   0.004467         58        640:   1% 2/138 [00:02<02:29,  1.10s/it]libpng warning: iCCP: known incorrect sRGB profile\n",
            "      16/19      13.9G    0.01949    0.00965   0.004218         41        640:   7% 10/138 [00:13<03:26,  1.61s/it]libpng warning: iCCP: known incorrect sRGB profile\n",
            "      16/19      13.9G    0.01923   0.009954   0.004293         52        640:   9% 13/138 [00:18<03:07,  1.50s/it]libpng warning: iCCP: known incorrect sRGB profile\n",
            "      16/19      13.9G    0.01841   0.009701   0.004303         43        640:  17% 24/138 [00:35<03:10,  1.67s/it]libpng warning: iCCP: known incorrect sRGB profile\n",
            "      16/19      13.9G    0.01866   0.009841   0.004942         53        640:  31% 43/138 [01:01<01:56,  1.22s/it]libpng warning: iCCP: known incorrect sRGB profile\n",
            "      16/19      13.9G    0.01831   0.009779   0.005045         52        640:  43% 59/138 [01:22<01:33,  1.19s/it]libpng warning: iCCP: known incorrect sRGB profile\n",
            "      16/19      13.9G    0.01855   0.009697    0.00529         42        640:  62% 86/138 [01:59<01:16,  1.46s/it]libpng warning: iCCP: known incorrect sRGB profile\n",
            "      16/19      13.9G    0.01862    0.00971   0.005226         52        640:  64% 88/138 [02:01<01:04,  1.29s/it]libpng warning: iCCP: known incorrect sRGB profile\n",
            "libpng warning: iCCP: known incorrect sRGB profile\n",
            "      16/19      13.9G    0.01869   0.009674   0.005395         41        640:  80% 110/138 [02:33<00:39,  1.40s/it]libpng warning: iCCP: known incorrect sRGB profile\n",
            "      16/19      13.9G    0.01863   0.009668   0.005443         50        640:  80% 111/138 [02:37<01:01,  2.27s/it]libpng warning: iCCP: known incorrect sRGB profile\n",
            "      16/19      13.9G    0.01886   0.009718   0.005475         46        640:  88% 122/138 [02:50<00:18,  1.17s/it]libpng warning: iCCP: known incorrect sRGB profile\n",
            "      16/19      13.9G    0.01875   0.009695   0.005499         53        640:  91% 125/138 [02:56<00:22,  1.73s/it]libpng warning: iCCP: known incorrect sRGB profile\n",
            "      16/19      13.9G    0.01861   0.009684   0.005439          4        640: 100% 138/138 [03:12<00:00,  1.39s/it]\n",
            "                 Class     Images  Instances          P          R      mAP50   mAP50-95:  69% 20/29 [00:20<00:09,  1.01s/it]libpng warning: iCCP: known incorrect sRGB profile\n",
            "                 Class     Images  Instances          P          R      mAP50   mAP50-95: 100% 29/29 [00:28<00:00,  1.01it/s]\n",
            "                   all        900       1150      0.964      0.955      0.987      0.889\n",
            "\n",
            "      Epoch    GPU_mem   box_loss   obj_loss   cls_loss  Instances       Size\n",
            "      17/19      13.9G    0.01938    0.01048   0.005179         59        640:   8% 11/138 [00:14<03:22,  1.59s/it]libpng warning: iCCP: known incorrect sRGB profile\n",
            "      17/19      13.9G    0.01864    0.01032   0.005196         49        640:  11% 15/138 [00:20<02:57,  1.45s/it]libpng warning: iCCP: known incorrect sRGB profile\n",
            "      17/19      13.9G    0.01868    0.01033   0.005888         57        640:  12% 16/138 [00:21<02:45,  1.36s/it]libpng warning: iCCP: known incorrect sRGB profile\n",
            "      17/19      13.9G    0.01796   0.009514   0.004694         45        640:  29% 40/138 [00:54<02:27,  1.50s/it]libpng warning: iCCP: known incorrect sRGB profile\n",
            "      17/19      13.9G    0.01805   0.009439   0.005073         53        640:  32% 44/138 [01:00<02:08,  1.37s/it]libpng warning: iCCP: known incorrect sRGB profile\n",
            "      17/19      13.9G    0.01795   0.009365   0.004686         50        640:  44% 61/138 [01:21<01:30,  1.18s/it]libpng warning: iCCP: known incorrect sRGB profile\n",
            "      17/19      13.9G     0.0179   0.009411   0.004731         45        640:  46% 63/138 [01:24<01:28,  1.17s/it]libpng warning: iCCP: known incorrect sRGB profile\n",
            "      17/19      13.9G    0.01783   0.009342   0.004897         56        640:  54% 75/138 [01:41<01:29,  1.42s/it]libpng warning: iCCP: known incorrect sRGB profile\n",
            "      17/19      13.9G    0.01774   0.009454   0.005351         44        640:  75% 104/138 [02:25<00:48,  1.43s/it]libpng warning: iCCP: known incorrect sRGB profile\n",
            "      17/19      13.9G    0.01768   0.009463   0.005334         47        640:  83% 115/138 [02:41<00:40,  1.78s/it]libpng warning: iCCP: known incorrect sRGB profile\n",
            "      17/19      13.9G    0.01759   0.009422    0.00533         49        640:  90% 124/138 [02:51<00:16,  1.17s/it]libpng warning: iCCP: known incorrect sRGB profile\n",
            "      17/19      13.9G    0.01749     0.0094   0.005398         45        640:  93% 129/138 [02:57<00:10,  1.19s/it]libpng warning: iCCP: known incorrect sRGB profile\n",
            "      17/19      13.9G    0.01752    0.00943   0.005399         54        640:  94% 130/138 [02:58<00:09,  1.18s/it]libpng warning: iCCP: known incorrect sRGB profile\n",
            "      17/19      13.9G    0.01759   0.009538    0.00545          4        640: 100% 138/138 [03:09<00:00,  1.37s/it]\n",
            "                 Class     Images  Instances          P          R      mAP50   mAP50-95:  69% 20/29 [00:20<00:07,  1.26it/s]libpng warning: iCCP: known incorrect sRGB profile\n",
            "                 Class     Images  Instances          P          R      mAP50   mAP50-95: 100% 29/29 [00:28<00:00,  1.01it/s]\n",
            "                   all        900       1150      0.968      0.958      0.986      0.914\n",
            "\n",
            "      Epoch    GPU_mem   box_loss   obj_loss   cls_loss  Instances       Size\n",
            "      18/19      13.9G    0.01408   0.008241   0.002116         49        640:   1% 2/138 [00:02<02:36,  1.15s/it]libpng warning: iCCP: known incorrect sRGB profile\n",
            "      18/19      13.9G      0.016   0.009186   0.006667         54        640:   5% 7/138 [00:10<03:46,  1.73s/it]libpng warning: iCCP: known incorrect sRGB profile\n",
            "      18/19      13.9G    0.01514   0.009263   0.005306         48        640:   8% 11/138 [00:18<04:06,  1.94s/it]libpng warning: iCCP: known incorrect sRGB profile\n",
            "      18/19      13.9G     0.0155   0.009172   0.005078         47        640:  28% 38/138 [01:00<02:00,  1.21s/it]libpng warning: iCCP: known incorrect sRGB profile\n",
            "      18/19      13.9G    0.01629   0.009177   0.004714         45        640:  44% 61/138 [01:32<02:00,  1.57s/it]libpng warning: iCCP: known incorrect sRGB profile\n",
            "      18/19      13.9G    0.01612    0.00919   0.004355         52        640:  60% 83/138 [02:02<01:11,  1.29s/it]libpng warning: iCCP: known incorrect sRGB profile\n",
            "      18/19      13.9G    0.01579   0.009126   0.004385         57        640:  71% 98/138 [02:23<00:51,  1.28s/it]libpng warning: iCCP: known incorrect sRGB profile\n",
            "      18/19      13.9G    0.01578   0.009151   0.004381         52        640:  74% 102/138 [02:27<00:42,  1.19s/it]libpng warning: iCCP: known incorrect sRGB profile\n",
            "      18/19      13.9G     0.0158   0.009129   0.004391         48        640:  77% 106/138 [02:33<00:46,  1.46s/it]libpng warning: iCCP: known incorrect sRGB profile\n",
            "      18/19      13.9G     0.0158   0.009129   0.004489         40        640:  78% 108/138 [02:36<00:40,  1.36s/it]libpng warning: iCCP: known incorrect sRGB profile\n",
            "      18/19      13.9G    0.01562   0.009109   0.004786          5        640: 100% 138/138 [03:17<00:00,  1.43s/it]\n",
            "                 Class     Images  Instances          P          R      mAP50   mAP50-95:   0% 0/29 [00:00<?, ?it/s]libpng warning: iCCP: known incorrect sRGB profile\n",
            "                 Class     Images  Instances          P          R      mAP50   mAP50-95:  69% 20/29 [00:19<00:07,  1.18it/s]libpng warning: iCCP: known incorrect sRGB profile\n",
            "                 Class     Images  Instances          P          R      mAP50   mAP50-95: 100% 29/29 [00:26<00:00,  1.07it/s]\n",
            "                   all        900       1150      0.967      0.967      0.988      0.919\n",
            "\n",
            "      Epoch    GPU_mem   box_loss   obj_loss   cls_loss  Instances       Size\n",
            "      19/19      13.9G    0.01707   0.008851   0.003553         41        640:   9% 13/138 [00:18<02:50,  1.36s/it]libpng warning: iCCP: known incorrect sRGB profile\n",
            "      19/19      13.9G     0.0159   0.009027   0.004251         51        640:  43% 60/138 [01:27<01:37,  1.25s/it]libpng warning: iCCP: known incorrect sRGB profile\n",
            "      19/19      13.9G    0.01566   0.009019   0.004236         45        640:  49% 68/138 [01:42<01:43,  1.48s/it]libpng warning: iCCP: known incorrect sRGB profile\n",
            "      19/19      13.9G    0.01546   0.008927   0.004193         50        640:  60% 83/138 [02:03<01:13,  1.33s/it]libpng warning: iCCP: known incorrect sRGB profile\n",
            "      19/19      13.9G    0.01498   0.008815   0.004712          4        640: 100% 138/138 [03:17<00:00,  1.43s/it]\n",
            "                 Class     Images  Instances          P          R      mAP50   mAP50-95:  69% 20/29 [00:19<00:09,  1.07s/it]libpng warning: iCCP: known incorrect sRGB profile\n",
            "                 Class     Images  Instances          P          R      mAP50   mAP50-95: 100% 29/29 [00:27<00:00,  1.06it/s]\n",
            "                   all        900       1150      0.964      0.962       0.99      0.926\n",
            "\n",
            "20 epochs completed in 1.289 hours.\n",
            "Optimizer stripped from runs/train/exp3/weights/last.pt, 173.1MB\n",
            "Optimizer stripped from runs/train/exp3/weights/best.pt, 173.1MB\n",
            "\n",
            "Validating runs/train/exp3/weights/best.pt...\n",
            "Fusing layers... \n",
            "Model summary: 322 layers, 86207059 parameters, 0 gradients, 203.9 GFLOPs\n",
            "                 Class     Images  Instances          P          R      mAP50   mAP50-95:  69% 20/29 [00:21<00:07,  1.21it/s]libpng warning: iCCP: known incorrect sRGB profile\n",
            "                 Class     Images  Instances          P          R      mAP50   mAP50-95: 100% 29/29 [00:29<00:00,  1.03s/it]\n",
            "                   all        900       1150      0.963      0.964       0.99      0.926\n",
            "                   car        900        201      0.936      0.946      0.985      0.943\n",
            "            threewheel        900        227          1      0.973      0.995      0.939\n",
            "                   bus        900        185      0.953      0.978      0.993      0.952\n",
            "                 truck        900        151      0.949       0.98      0.986      0.918\n",
            "             motorbike        900        216      0.989      0.954      0.993      0.845\n",
            "                   van        900        170       0.95      0.953      0.987      0.959\n",
            "Results saved to \u001b[1mruns/train/exp3\u001b[0m\n"
          ]
        }
      ]
    },
    {
      "cell_type": "markdown",
      "source": [
        "Tải ảnh cho vào thư mục ***yolov5/data/images***\n",
        "\n",
        "Phát hiện đối tượng trên ảnh bằng Script:"
      ],
      "metadata": {
        "id": "thcjMtTNYly_"
      }
    },
    {
      "cell_type": "code",
      "source": [
        "!python detect.py --weights /content/drive/MyDrive/yolov5/runs/train/exp3/weights/best.pt --img 640 --conf 0.25 --source data/images/02973.jpg\n",
        "display.Image(filename='runs/train/exp3/02973.jpg', width=600)"
      ],
      "metadata": {
        "colab": {
          "base_uri": "https://localhost:8080/"
        },
        "id": "JbNlK0rhuMKW",
        "outputId": "41d3efdb-6a60-491e-cdf1-b5bb5b512560",
        "collapsed": true
      },
      "execution_count": null,
      "outputs": [
        {
          "output_type": "stream",
          "name": "stdout",
          "text": [
            "\u001b[34m\u001b[1mdetect: \u001b[0mweights=['/content/drive/MyDrive/yolov5/runs/train/exp3/weights/best.pt'], source=data/images/02973.jpg, data=data/coco128.yaml, imgsz=[640, 640], conf_thres=0.25, iou_thres=0.45, max_det=1000, device=, view_img=False, save_txt=False, save_csv=False, save_conf=False, save_crop=False, nosave=False, classes=None, agnostic_nms=False, augment=False, visualize=False, update=False, project=runs/detect, name=exp, exist_ok=False, line_thickness=3, hide_labels=False, hide_conf=False, half=False, dnn=False, vid_stride=1\n",
            "YOLOv5 🚀 v7.0-338-gff063284 Python-3.10.12 torch-2.3.0+cu121 CUDA:0 (Tesla T4, 15102MiB)\n",
            "\n",
            "Fusing layers... \n",
            "Model summary: 322 layers, 86207059 parameters, 0 gradients, 203.9 GFLOPs\n",
            "Traceback (most recent call last):\n",
            "  File \"/content/drive/MyDrive/yolov5/detect.py\", line 424, in <module>\n",
            "    main(opt)\n",
            "  File \"/content/drive/MyDrive/yolov5/detect.py\", line 419, in main\n",
            "    run(**vars(opt))\n",
            "  File \"/usr/local/lib/python3.10/dist-packages/torch/utils/_contextlib.py\", line 115, in decorate_context\n",
            "    return func(*args, **kwargs)\n",
            "  File \"/content/drive/MyDrive/yolov5/detect.py\", line 178, in run\n",
            "    dataset = LoadImages(source, img_size=imgsz, stride=stride, auto=pt, vid_stride=vid_stride)\n",
            "  File \"/content/drive/MyDrive/yolov5/utils/dataloaders.py\", line 335, in __init__\n",
            "    raise FileNotFoundError(f\"{p} does not exist\")\n",
            "FileNotFoundError: /content/drive/MyDrive/yolov5/data/images/02973.jpg does not exist\n"
          ]
        }
      ]
    }
  ]
}